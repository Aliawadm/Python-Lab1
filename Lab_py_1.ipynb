{
 "cells": [
  {
   "cell_type": "code",
   "execution_count": null,
   "id": "fcc04e8a-d90a-4aac-b8b2-af92a6df1a0a",
   "metadata": {},
   "outputs": [],
   "source": [
    "fav_season = \"winter\""
   ]
  },
  {
   "cell_type": "code",
   "execution_count": null,
   "id": "62ba5864-1123-49d8-b2cc-02543f41dad6",
   "metadata": {},
   "outputs": [],
   "source": [
    "x= 10\n",
    "y=2.2"
   ]
  },
  {
   "cell_type": "code",
   "execution_count": null,
   "id": "6e94b091-dff3-45f2-ab87-c9c277876a38",
   "metadata": {},
   "outputs": [],
   "source": [
    "d = z= a=2"
   ]
  },
  {
   "cell_type": "code",
   "execution_count": null,
   "id": "ba8d2b10-349b-4ae0-a061-c284d4cc5ef6",
   "metadata": {},
   "outputs": [],
   "source": [
    "a1 ,a2 , a3 =1,35,55"
   ]
  }
 ],
 "metadata": {
  "kernelspec": {
   "display_name": "Python 3 (ipykernel)",
   "language": "python",
   "name": "python3"
  },
  "language_info": {
   "codemirror_mode": {
    "name": "ipython",
    "version": 3
   },
   "file_extension": ".py",
   "mimetype": "text/x-python",
   "name": "python",
   "nbconvert_exporter": "python",
   "pygments_lexer": "ipython3",
   "version": "3.12.0"
  }
 },
 "nbformat": 4,
 "nbformat_minor": 5
}
